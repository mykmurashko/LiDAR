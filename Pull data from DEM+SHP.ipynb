{
 "cells": [
  {
   "cell_type": "code",
   "execution_count": 1,
   "metadata": {},
   "outputs": [],
   "source": [
    "from rasterstats import zonal_stats\n",
    "import numpy as np\n",
    "import pandas as pd\n",
    "from osgeo import ogr"
   ]
  },
  {
   "cell_type": "code",
   "execution_count": 2,
   "metadata": {},
   "outputs": [],
   "source": [
    "shapefile = 'shapefile/wards-river.shp'"
   ]
  },
  {
   "cell_type": "code",
   "execution_count": 3,
   "metadata": {},
   "outputs": [],
   "source": [
    "# Read the shapefile and pull attributes from it into the data frame\n",
    "\n",
    "driver = ogr.GetDriverByName(\"ESRI Shapefile\")\n",
    "dataSource = driver.Open(shapefile, 1)\n",
    "layer = dataSource.GetLayer()\n",
    "\n",
    "WARD = []\n",
    "AREA = []\n",
    "BOROUGH = []\n",
    "NONLD_AREA = []\n",
    "for feature in layer:\n",
    "    WARD = WARD + [feature.GetField(\"NAME\")]\n",
    "    AREA = AREA + [feature.GetField(\"HECTARES\")]\n",
    "    BOROUGH = BOROUGH + [feature.GetField(\"BOROUGH\")]\n",
    "    NONLD_AREA = NONLD_AREA + [feature.GetField(\"NONLD_AREA\")]"
   ]
  },
  {
   "cell_type": "markdown",
   "metadata": {},
   "source": [
    "Because we subtracted the river, the true area of the polygon = Area-NONLDarea"
   ]
  },
  {
   "cell_type": "code",
   "execution_count": 4,
   "metadata": {},
   "outputs": [
    {
     "name": "stdout",
     "output_type": "stream",
     "text": [
      "                     Ward               Borough  AreaWard(HA)\n",
      "0       Chessington South  Kingston upon Thames       755.173\n",
      "1  Tolworth and Hook Rise  Kingston upon Thames       259.464\n",
      "2              Berrylands  Kingston upon Thames       145.390\n",
      "3               Alexandra  Kingston upon Thames       268.506\n",
      "4                Beverley  Kingston upon Thames       187.821\n"
     ]
    }
   ],
   "source": [
    "df = pd.DataFrame(list(zip(WARD, BOROUGH, AREA, NONLD_AREA)), columns=[\"Ward\", \"Borough\", \"Area\", 'NonLDArea'])\n",
    "b = df['Area']-df['NonLDArea']\n",
    "df['AreaWard(HA)'] = b \n",
    "df.drop(columns = ['Area', 'NonLDArea'], inplace = True)\n",
    "print(df.head(5))"
   ]
  },
  {
   "cell_type": "markdown",
   "metadata": {},
   "source": [
    "reference in the DEMs"
   ]
  },
  {
   "cell_type": "code",
   "execution_count": 5,
   "metadata": {},
   "outputs": [],
   "source": [
    "DEM2014='DEM@50/DEM2014.tif'"
   ]
  },
  {
   "cell_type": "markdown",
   "metadata": {},
   "source": [
    "definition to count the total footprint of buildings in a ward"
   ]
  },
  {
   "cell_type": "code",
   "execution_count": 6,
   "metadata": {},
   "outputs": [],
   "source": [
    "def footprint(x):\n",
    "        return (np.sum(x > 2))/4"
   ]
  },
  {
   "cell_type": "code",
   "execution_count": 7,
   "metadata": {},
   "outputs": [],
   "source": [
    "def coverage(x):\n",
    "        return (np.sum(x > -1))/4"
   ]
  },
  {
   "cell_type": "code",
   "execution_count": 8,
   "metadata": {},
   "outputs": [],
   "source": [
    "def volume(x):\n",
    "    return np.sum(x)/4 "
   ]
  },
  {
   "cell_type": "code",
   "execution_count": 9,
   "metadata": {},
   "outputs": [],
   "source": [
    "def calc(data, year, master):\n",
    "    stats=zonal_stats(shapefile, data, stats = [\"count\"], add_stats={f\"F_{year}\" : footprint, f\"V_{year}\" : volume, f\"C_{year}\" : coverage})\n",
    "    df1=pd.DataFrame.from_dict(stats)\n",
    "    master=pd.concat([master, df1], axis=1)\n",
    "    master.drop(columns=[\"count\"], inplace=True)\n",
    "    return master"
   ]
  },
  {
   "cell_type": "markdown",
   "metadata": {},
   "source": [
    "execution"
   ]
  },
  {
   "cell_type": "code",
   "execution_count": 10,
   "metadata": {},
   "outputs": [
    {
     "name": "stdout",
     "output_type": "stream",
     "text": [
      "CPU times: user 2min 58s, sys: 5min 52s, total: 8min 51s\n",
      "Wall time: 9min 4s\n"
     ]
    }
   ],
   "source": [
    "%%time\n",
    "df=calc(DEM2014, 2014, df)"
   ]
  },
  {
   "cell_type": "code",
   "execution_count": 11,
   "metadata": {},
   "outputs": [],
   "source": [
    "df.to_csv(\"data_pull_2014@50.csv\")"
   ]
  },
  {
   "cell_type": "code",
   "execution_count": null,
   "metadata": {},
   "outputs": [],
   "source": []
  }
 ],
 "metadata": {
  "kernelspec": {
   "display_name": "Python 3",
   "language": "python",
   "name": "python3"
  },
  "language_info": {
   "codemirror_mode": {
    "name": "ipython",
    "version": 3
   },
   "file_extension": ".py",
   "mimetype": "text/x-python",
   "name": "python",
   "nbconvert_exporter": "python",
   "pygments_lexer": "ipython3",
   "version": "3.8.1"
  }
 },
 "nbformat": 4,
 "nbformat_minor": 4
}
